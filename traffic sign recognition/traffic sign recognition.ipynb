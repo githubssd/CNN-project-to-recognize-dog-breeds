{
  "cells": [
    {
      "metadata": {
        "_uuid": "8f2839f25d086af736a60e9eeb907d3b93b6e0e5",
        "_cell_guid": "b1076dfc-b9ad-4769-8c92-a6c4dae69d19",
        "trusted": true
      },
      "cell_type": "code",
      "source": "!pip install fastai==0.7.0 --no-deps\n!pip install torch==0.4.1 torchvision==0.2.1",
      "execution_count": 1,
      "outputs": [
        {
          "output_type": "stream",
          "text": "Collecting fastai==0.7.0\n\u001b[?25l  Downloading https://files.pythonhosted.org/packages/50/6d/9d0d6e17a78b0598d5e8c49a0d03ffc7ff265ae62eca3e2345fab14edb9b/fastai-0.7.0-py3-none-any.whl (112kB)\n\u001b[K    100% |████████████████████████████████| 122kB 3.4MB/s ta 0:00:01\n\u001b[?25hInstalling collected packages: fastai\n  Found existing installation: fastai 1.0.36.post1\n    Uninstalling fastai-1.0.36.post1:\n      Successfully uninstalled fastai-1.0.36.post1\nSuccessfully installed fastai-0.7.0\nCollecting torch==0.4.1\n\u001b[?25l  Downloading https://files.pythonhosted.org/packages/49/0e/e382bcf1a6ae8225f50b99cc26effa2d4cc6d66975ccf3fa9590efcbedce/torch-0.4.1-cp36-cp36m-manylinux1_x86_64.whl (519.5MB)\n\u001b[K    100% |████████████████████████████████| 519.5MB 83kB/s  eta 0:00:01   10% |███▌                            | 56.1MB 37.9MB/s eta 0:00:13    13% |████▏                           | 67.9MB 34.1MB/s eta 0:00:14    23% |███████▍                        | 119.5MB 35.4MB/s eta 0:00:12    28% |█████████▏                      | 149.3MB 36.1MB/s eta 0:00:11    29% |█████████▍                      | 153.2MB 34.4MB/s eta 0:00:11    38% |████████████▍                   | 201.4MB 37.5MB/s eta 0:00:09    55% |█████████████████▉              | 289.2MB 35.8MB/s eta 0:00:07    58% |██████████████████▉             | 305.7MB 37.5MB/s eta 0:00:06    81% |██████████████████████████      | 421.9MB 34.4MB/s eta 0:00:03    82% |██████████████████████████▍     | 427.5MB 34.8MB/s eta 0:00:03    85% |███████████████████████████▎    | 442.6MB 35.1MB/s eta 0:00:03    89% |████████████████████████████▉   | 467.4MB 32.9MB/s eta 0:00:02    94% |██████████████████████████████▎ | 491.1MB 7.2MB/s eta 0:00:04�██▎ | 491.5MB 4.7MB/s eta 0:00:06    95% |██████████████████████████████▋ | 497.8MB 30.5MB/s eta 0:00:01    99% |███████████████████████████████▉| 516.9MB 33.1MB/s eta 0:00:01\n\u001b[?25hRequirement already satisfied: torchvision==0.2.1 in /opt/conda/lib/python3.6/site-packages (0.2.1)\nRequirement already satisfied: numpy in /opt/conda/lib/python3.6/site-packages (from torchvision==0.2.1) (1.15.4)\nRequirement already satisfied: pillow>=4.1.1 in /opt/conda/lib/python3.6/site-packages (from torchvision==0.2.1) (5.1.0)\nRequirement already satisfied: six in /opt/conda/lib/python3.6/site-packages (from torchvision==0.2.1) (1.11.0)\n\u001b[31mfastai 0.7.0 has requirement torch<0.4, but you'll have torch 0.4.1 which is incompatible.\u001b[0m\nInstalling collected packages: torch\n  Found existing installation: torch 1.0.0\n    Uninstalling torch-1.0.0:\n      Successfully uninstalled torch-1.0.0\nSuccessfully installed torch-0.4.1\n",
          "name": "stdout"
        }
      ]
    },
    {
      "metadata": {
        "_cell_guid": "79c7e3d0-c299-4dcb-8224-4455121ee9b0",
        "_uuid": "d629ff2d2480ee46fbb7e2d37f6b5fab8052498a",
        "trusted": true
      },
      "cell_type": "code",
      "source": "%reload_ext autoreload\n%autoreload 2\n%matplotlib inline\n\nfrom fastai.imports import *\nfrom fastai.torch_imports import *\nfrom fastai.transforms import *\nfrom fastai.conv_learner import *\nfrom fastai.model import *\nfrom fastai.dataset import *\nfrom fastai.sgdr import *\nfrom fastai.plots import *\n\ntorch.cuda.set_device(0)",
      "execution_count": 2,
      "outputs": []
    },
    {
      "metadata": {
        "trusted": true,
        "_uuid": "266660293d4ba10257b93b39260dd55dc7fb2147"
      },
      "cell_type": "code",
      "source": "PATH = \"../input\"\nsz=224",
      "execution_count": 3,
      "outputs": []
    },
    {
      "metadata": {
        "trusted": true,
        "_uuid": "b86473ed5bf4aa85e4d4e1cd345d03c8f8cabe2a"
      },
      "cell_type": "code",
      "source": "os.listdir(PATH)",
      "execution_count": 4,
      "outputs": [
        {
          "output_type": "execute_result",
          "execution_count": 4,
          "data": {
            "text/plain": "['train', 'test', 'meta', 'Meta.csv', 'Train.csv', 'Test.csv']"
          },
          "metadata": {}
        }
      ]
    },
    {
      "metadata": {
        "trusted": true,
        "_uuid": "b9090680e7058f0b534b9b9782edebb2789890a0"
      },
      "cell_type": "code",
      "source": "img = plt.imread(f'{PATH}/test/00000.png')\nplt.imshow(img);",
      "execution_count": 5,
      "outputs": [
        {
          "output_type": "display_data",
          "data": {
            "text/plain": "<Figure size 432x288 with 1 Axes>",
            "image/png": "[encoded data removed]"
          },
          "metadata": {}
        }
      ]
    },
    {
      "metadata": {
        "trusted": true,
        "_uuid": "35a2185e03ab3080a815d3fc2b0c00fcae8f6b68"
      },
      "cell_type": "code",
      "source": "img.shape",
      "execution_count": 6,
      "outputs": [
        {
          "output_type": "execute_result",
          "execution_count": 6,
          "data": {
            "text/plain": "(54, 53, 3)"
          },
          "metadata": {}
        }
      ]
    },
    {
      "metadata": {
        "trusted": true,
        "_uuid": "d87ad57f4af6f44c5c5beaf58feda4faa98f76e5"
      },
      "cell_type": "code",
      "source": "import pathlib\narch=resnet34\ndata = ImageClassifierData.from_paths(PATH, tfms=tfms_from_model(arch, sz), val_name='train')# using training data as validation data, cause we have samller dataset.\ndata.path = pathlib.Path('.')\nlearn = ConvLearner.pretrained(arch, data, precompute=True)\nlearn.fit(0.01, 2)",
      "execution_count": 7,
      "outputs": [
        {
          "output_type": "stream",
          "text": "Downloading: \"https://download.pytorch.org/models/resnet34-333f7ec4.pth\" to /tmp/.torch/models/resnet34-333f7ec4.pth\n100%|██████████| 87306240/87306240 [00:01<00:00, 63636244.02it/s]\n",
          "name": "stderr"
        },
        {
          "output_type": "stream",
          "text": "\r  0%|          | 0/613 [00:00<?, ?it/s]",
          "name": "stdout"
        },
        {
          "output_type": "stream",
          "text": "/opt/conda/lib/python3.6/site-packages/fastai/initializers.py:6: UserWarning: nn.init.kaiming_normal is now deprecated in favor of nn.init.kaiming_normal_.\n  if hasattr(m, 'weight'): init_fn(m.weight)\n/opt/conda/lib/python3.6/site-packages/fastai/initializers.py:6: UserWarning: nn.init.kaiming_normal is now deprecated in favor of nn.init.kaiming_normal_.\n  if hasattr(m, 'weight'): init_fn(m.weight)\n",
          "name": "stderr"
        },
        {
          "output_type": "stream",
          "text": "100%|██████████| 613/613 [03:37<00:00,  3.57it/s]\n100%|██████████| 613/613 [03:37<00:00,  3.55it/s]\n",
          "name": "stdout"
        },
        {
          "output_type": "display_data",
          "data": {
            "text/plain": "HBox(children=(IntProgress(value=0, description='Epoch', max=2, style=ProgressStyle(description_width='initial…",
            "application/vnd.jupyter.widget-view+json": {
              "version_major": 2,
              "version_minor": 0,
              "model_id": "692c5417b7f84fdaaef8f2d8704d6c3a"
            }
          },
          "metadata": {}
        },
        {
          "output_type": "stream",
          "text": "epoch      trn_loss   val_loss   accuracy                    \n    0      0.900934   0.536752   0.842434  \n    1      0.700777   0.369351   0.894284                    \n\n",
          "name": "stdout"
        },
        {
          "output_type": "execute_result",
          "execution_count": 7,
          "data": {
            "text/plain": "[0.36935147393020074, 0.8942844754893917]"
          },
          "metadata": {}
        }
      ]
    },
    {
      "metadata": {
        "trusted": true,
        "_uuid": "0b8148e43b7ca5d51107203f7d6002d35c665000"
      },
      "cell_type": "code",
      "source": "lrf=learn.lr_find()",
      "execution_count": 8,
      "outputs": [
        {
          "output_type": "display_data",
          "data": {
            "text/plain": "HBox(children=(IntProgress(value=0, description='Epoch', max=1, style=ProgressStyle(description_width='initial…",
            "application/vnd.jupyter.widget-view+json": {
              "version_major": 2,
              "version_minor": 0,
              "model_id": "b9722e4d12b848878927e31ce33940f2"
            }
          },
          "metadata": {}
        },
        {
          "output_type": "stream",
          "text": " 80%|████████  | 492/613 [00:08<00:02, 56.23it/s, loss=2.39] \n                                                            \r",
          "name": "stdout"
        }
      ]
    },
    {
      "metadata": {
        "trusted": true,
        "_uuid": "89455551cd0a98c2be9c91920988f88255549204"
      },
      "cell_type": "code",
      "source": "learn.sched.plot_lr()",
      "execution_count": 9,
      "outputs": [
        {
          "output_type": "display_data",
          "data": {
            "text/plain": "<Figure size 432x288 with 1 Axes>",
            "image/png": "[encoded data removed]"
          },
          "metadata": {}
        }
      ]
    },
    {
      "metadata": {
        "trusted": true,
        "_uuid": "711f50cee93ffb372b2c2a518cdb3344aeb78935"
      },
      "cell_type": "code",
      "source": "learn.sched.plot()",
      "execution_count": 10,
      "outputs": [
        {
          "output_type": "display_data",
          "data": {
            "text/plain": "<Figure size 432x288 with 1 Axes>",
            "image/png": "[encoded data removed]"
          },
          "metadata": {}
        }
      ]
    },
    {
      "metadata": {
        "_uuid": "7d8162490714fbd0e5ead42931d9e0e31e6421cf"
      },
      "cell_type": "markdown",
      "source": "Trying to improve with data augmentation"
    },
    {
      "metadata": {
        "trusted": true,
        "_uuid": "793f8458f8a3e9a9d79b6ad86da9f0d243f65e12"
      },
      "cell_type": "code",
      "source": "tfms = tfms_from_model(resnet34, sz, aug_tfms=transforms_side_on)\ndata = ImageClassifierData.from_paths(PATH, bs=32, tfms=tfms, num_workers=1, val_name='train')\ndata.path = pathlib.Path('.')",
      "execution_count": 11,
      "outputs": []
    },
    {
      "metadata": {
        "trusted": true,
        "_uuid": "02c0f2c2107e7897f64bc84781205ce742d27b8a"
      },
      "cell_type": "code",
      "source": "learn = ConvLearner.pretrained(arch, data, precompute=True)",
      "execution_count": 12,
      "outputs": [
        {
          "output_type": "stream",
          "text": "/opt/conda/lib/python3.6/site-packages/fastai/initializers.py:6: UserWarning: nn.init.kaiming_normal is now deprecated in favor of nn.init.kaiming_normal_.\n  if hasattr(m, 'weight'): init_fn(m.weight)\n/opt/conda/lib/python3.6/site-packages/fastai/initializers.py:6: UserWarning: nn.init.kaiming_normal is now deprecated in favor of nn.init.kaiming_normal_.\n  if hasattr(m, 'weight'): init_fn(m.weight)\n",
          "name": "stderr"
        }
      ]
    },
    {
      "metadata": {
        "trusted": true,
        "_uuid": "735b21125e30dd44159b375567954b672db52934"
      },
      "cell_type": "code",
      "source": "learn.fit(1e-2, 4)",
      "execution_count": 15,
      "outputs": [
        {
          "output_type": "display_data",
          "data": {
            "text/plain": "HBox(children=(IntProgress(value=0, description='Epoch', max=4, style=ProgressStyle(description_width='initial…",
            "application/vnd.jupyter.widget-view+json": {
              "version_major": 2,
              "version_minor": 0,
              "model_id": "e493658f6db34cf89fde7eb0e6b4b391"
            }
          },
          "metadata": {}
        },
        {
          "output_type": "stream",
          "text": "epoch      trn_loss   val_loss   accuracy                       \n    0      0.598569   0.249571   0.927517  \n    1      0.524158   0.200332   0.942819                       \n    2      0.491744   0.174583   0.952409                       \n    3      0.467785   0.153321   0.957408                       \n\n",
          "name": "stdout"
        },
        {
          "output_type": "execute_result",
          "execution_count": 15,
          "data": {
            "text/plain": "[0.15332108465313574, 0.9574077380193323]"
          },
          "metadata": {}
        }
      ]
    },
    {
      "metadata": {
        "trusted": true,
        "_uuid": "8c8b465421930a5a4455a5a68164ed1738549398"
      },
      "cell_type": "code",
      "source": "learn.precompute = False\nlearn.unfreeze()\nlr=np.array([1e-6,1e-4,1e-2])\nlearn.fit(lr, 3, cycle_len=1, cycle_mult=2)",
      "execution_count": null,
      "outputs": []
    },
    {
      "metadata": {
        "trusted": true,
        "_uuid": "6d625bdeeeb59bf4cdbfae4adb1e4d7af499c343"
      },
      "cell_type": "code",
      "source": "learn.sched.plot_lr()",
      "execution_count": null,
      "outputs": []
    },
    {
      "metadata": {
        "trusted": true,
        "_uuid": "812d4fe005d54befe5a8e1ced1d0f729ecbe77f7"
      },
      "cell_type": "code",
      "source": "log_preds,y = learn.TTA()\nprobs = np.mean(np.exp(log_preds),0)\naccuracy_np(probs, y)",
      "execution_count": null,
      "outputs": []
    },
    {
      "metadata": {
        "trusted": true,
        "_uuid": "551e0a17cda202af4bb061f4e343c2fe3a8a3a1e"
      },
      "cell_type": "code",
      "source": "preds = np.argmax(probs, axis=1)\nprobs = probs[:,1]",
      "execution_count": null,
      "outputs": []
    },
    {
      "metadata": {
        "trusted": true,
        "_uuid": "247d5807d348c0bf4274cb7a826210524b729cef"
      },
      "cell_type": "code",
      "source": "from sklearn.metrics import confusion_matrix\ncm = confusion_matrix(y, preds)",
      "execution_count": null,
      "outputs": []
    },
    {
      "metadata": {
        "trusted": true,
        "_uuid": "b6e33685efa3ac0319ae93f581b5bd8f2e780a13"
      },
      "cell_type": "code",
      "source": "plot_confusion_matrix(cm, data.classes)",
      "execution_count": null,
      "outputs": []
    }
  ],
  "metadata": {
    "kernelspec": {
      "display_name": "Python 3",
      "language": "python",
      "name": "python3"
    },
    "language_info": {
      "name": "python",
      "version": "3.6.6",
      "mimetype": "text/x-python",
      "codemirror_mode": {
        "name": "ipython",
        "version": 3
      },
      "pygments_lexer": "ipython3",
      "nbconvert_exporter": "python",
      "file_extension": ".py"
    }
  },
  "nbformat": 4,
  "nbformat_minor": 1
}