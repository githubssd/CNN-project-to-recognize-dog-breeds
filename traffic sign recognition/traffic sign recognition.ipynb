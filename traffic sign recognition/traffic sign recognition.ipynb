{
  "cells": [
    {
      "metadata": {
        "_uuid": "8f2839f25d086af736a60e9eeb907d3b93b6e0e5",
        "_cell_guid": "b1076dfc-b9ad-4769-8c92-a6c4dae69d19",
        "trusted": true
      },
      "cell_type": "code",
      "source": "!pip install fastai==0.7.0 --no-deps\n!pip install torch==0.4.1 torchvision==0.2.1",
      "execution_count": 1,
      "outputs": [
        {
          "output_type": "stream",
          "text": "Collecting fastai==0.7.0\n\u001b[?25l  Downloading https://files.pythonhosted.org/packages/50/6d/9d0d6e17a78b0598d5e8c49a0d03ffc7ff265ae62eca3e2345fab14edb9b/fastai-0.7.0-py3-none-any.whl (112kB)\n\u001b[K    100% |████████████████████████████████| 122kB 3.7MB/s ta 0:00:01\n\u001b[?25hInstalling collected packages: fastai\n  Found existing installation: fastai 1.0.36.post1\n    Uninstalling fastai-1.0.36.post1:\n      Successfully uninstalled fastai-1.0.36.post1\nSuccessfully installed fastai-0.7.0\nCollecting torch==0.4.1\n\u001b[?25l  Downloading https://files.pythonhosted.org/packages/49/0e/e382bcf1a6ae8225f50b99cc26effa2d4cc6d66975ccf3fa9590efcbedce/torch-0.4.1-cp36-cp36m-manylinux1_x86_64.whl (519.5MB)\n\u001b[K    100% |████████████████████████████████| 519.5MB 77kB/s  eta 0:00:01  9% |███                             | 47.4MB 35.2MB/s eta 0:00:14    20% |██████▋                         | 108.1MB 35.4MB/s eta 0:00:12    26% |████████▍                       | 135.6MB 34.8MB/s eta 0:00:12    30% |█████████▊                      | 157.6MB 36.2MB/s eta 0:00:10165.2MB 13.1MB/s eta 0:00:28    31% |██████████▎                     | 166.2MB 6.8MB/s eta 0:00:52    32% |██████████▌                     | 169.9MB 31.2MB/s eta 0:00:12    33% |██████████▋                     | 173.1MB 32.2MB/s eta 0:00:11�█████▍                    | 184.8MB 46.5MB/s eta 0:00:08    45% |██████████████▋                 | 236.9MB 35.9MB/s eta 0:00:08    50% |████████████████▎               | 263.8MB 34.7MB/s eta 0:00:08    51% |████████████████▍               | 265.7MB 32.1MB/s eta 0:00:08    54% |█████████████████▎              | 280.9MB 33.1MB/s eta 0:00:08�███████▊             | 303.8MB 28.7MB/s eta 0:00:08    66% |█████████████████████▏          | 343.6MB 36.4MB/s eta 0:00:05MB 31.1MB/s eta 0:00:06    68% |██████████████████████          | 358.2MB 32.5MB/s eta 0:00:05    75% |████████████████████████        | 390.1MB 34.9MB/s eta 0:00:04    77% |████████████████████████▊       | 401.6MB 35.8MB/s eta 0:00:04    78% |█████████████████████████       | 407.2MB 34.5MB/s eta 0:00:04    81% |██████████████████████████▏     | 424.0MB 33.9MB/s eta 0:00:03    83% |██████████████████████████▉     | 435.1MB 34.3MB/s eta 0:00:03    93% |██████████████████████████████  | 485.7MB 32.9MB/s eta 0:00:02    95% |██████████████████████████████▋ | 496.9MB 36.0MB/s eta 0:00:01    96% |███████████████████████████████ | 502.7MB 31.2MB/s eta 0:00:01\n\u001b[?25hRequirement already satisfied: torchvision==0.2.1 in /opt/conda/lib/python3.6/site-packages (0.2.1)\nRequirement already satisfied: numpy in /opt/conda/lib/python3.6/site-packages (from torchvision==0.2.1) (1.15.4)\nRequirement already satisfied: pillow>=4.1.1 in /opt/conda/lib/python3.6/site-packages (from torchvision==0.2.1) (5.1.0)\nRequirement already satisfied: six in /opt/conda/lib/python3.6/site-packages (from torchvision==0.2.1) (1.11.0)\n\u001b[31mfastai 0.7.0 has requirement torch<0.4, but you'll have torch 0.4.1 which is incompatible.\u001b[0m\nInstalling collected packages: torch\n  Found existing installation: torch 1.0.0\n    Uninstalling torch-1.0.0:\n      Successfully uninstalled torch-1.0.0\nSuccessfully installed torch-0.4.1\n",
          "name": "stdout"
        }
      ]
    },
    {
      "metadata": {
        "_cell_guid": "79c7e3d0-c299-4dcb-8224-4455121ee9b0",
        "_uuid": "d629ff2d2480ee46fbb7e2d37f6b5fab8052498a",
        "trusted": true
      },
      "cell_type": "code",
      "source": "%reload_ext autoreload\n%autoreload 2\n%matplotlib inline\n\nfrom fastai.imports import *\nfrom fastai.torch_imports import *\nfrom fastai.transforms import *\nfrom fastai.conv_learner import *\nfrom fastai.model import *\nfrom fastai.dataset import *\nfrom fastai.sgdr import *\nfrom fastai.plots import *\n\ntorch.cuda.set_device(0)",
      "execution_count": 2,
      "outputs": []
    },
    {
      "metadata": {
        "trusted": true,
        "_uuid": "266660293d4ba10257b93b39260dd55dc7fb2147"
      },
      "cell_type": "code",
      "source": "PATH = \"../input\"\nsz=224",
      "execution_count": 3,
      "outputs": []
    },
    {
      "metadata": {
        "trusted": true,
        "_uuid": "b86473ed5bf4aa85e4d4e1cd345d03c8f8cabe2a"
      },
      "cell_type": "code",
      "source": "os.listdir(PATH)",
      "execution_count": 4,
      "outputs": [
        {
          "output_type": "execute_result",
          "execution_count": 4,
          "data": {
            "text/plain": "['train', 'test', 'meta', 'Meta.csv', 'Train.csv', 'Test.csv']"
          },
          "metadata": {}
        }
      ]
    },
    {
      "metadata": {
        "trusted": true,
        "_uuid": "b9090680e7058f0b534b9b9782edebb2789890a0"
      },
      "cell_type": "code",
      "source": "img = plt.imread(f'{PATH}/test/00000.png')\nplt.imshow(img);",
      "execution_count": 5,
      "outputs": [
        {
          "output_type": "display_data",
          "data": {
            "text/plain": "<Figure size 432x288 with 1 Axes>",
            "image/png": "[encoded data removed]"
          },
          "metadata": {}
        }
      ]
    },
    {
      "metadata": {
        "trusted": true,
        "_uuid": "35a2185e03ab3080a815d3fc2b0c00fcae8f6b68"
      },
      "cell_type": "code",
      "source": "img.shape",
      "execution_count": 6,
      "outputs": [
        {
          "output_type": "execute_result",
          "execution_count": 6,
          "data": {
            "text/plain": "(54, 53, 3)"
          },
          "metadata": {}
        }
      ]
    },
    {
      "metadata": {
        "trusted": true,
        "_uuid": "d87ad57f4af6f44c5c5beaf58feda4faa98f76e5"
      },
      "cell_type": "code",
      "source": "import pathlib\narch=resnet34\ndata = ImageClassifierData.from_paths(PATH, tfms=tfms_from_model(arch, sz), val_name='train')# using training data as validation data, cause we have samller dataset.\ndata.path = pathlib.Path('.')\nlearn = ConvLearner.pretrained(arch, data, precompute=True)\nlearn.fit(0.01, 4)",
      "execution_count": 7,
      "outputs": [
        {
          "output_type": "stream",
          "text": "Downloading: \"https://download.pytorch.org/models/resnet34-333f7ec4.pth\" to /tmp/.torch/models/resnet34-333f7ec4.pth\n100%|██████████| 87306240/87306240 [00:01<00:00, 77213929.05it/s]\n",
          "name": "stderr"
        },
        {
          "output_type": "stream",
          "text": "\r  0%|          | 0/613 [00:00<?, ?it/s]",
          "name": "stdout"
        },
        {
          "output_type": "stream",
          "text": "/opt/conda/lib/python3.6/site-packages/fastai/initializers.py:6: UserWarning: nn.init.kaiming_normal is now deprecated in favor of nn.init.kaiming_normal_.\n  if hasattr(m, 'weight'): init_fn(m.weight)\n/opt/conda/lib/python3.6/site-packages/fastai/initializers.py:6: UserWarning: nn.init.kaiming_normal is now deprecated in favor of nn.init.kaiming_normal_.\n  if hasattr(m, 'weight'): init_fn(m.weight)\n",
          "name": "stderr"
        },
        {
          "output_type": "stream",
          "text": "100%|██████████| 613/613 [03:51<00:00,  3.59it/s]\n100%|██████████| 613/613 [03:42<00:00,  3.65it/s]\n",
          "name": "stdout"
        },
        {
          "output_type": "display_data",
          "data": {
            "text/plain": "HBox(children=(IntProgress(value=0, description='Epoch', max=4, style=ProgressStyle(description_width='initial…",
            "application/vnd.jupyter.widget-view+json": {
              "version_major": 2,
              "version_minor": 0,
              "model_id": "942ebbfdde9f4840a2e52092d958ce53"
            }
          },
          "metadata": {}
        },
        {
          "output_type": "stream",
          "text": "epoch      trn_loss   val_loss   accuracy                    \n    0      0.945837   0.549731   0.839629  \n    1      0.710909   0.379389   0.891198                    \n    2      0.630784   0.300572   0.912316                    \n    3      0.549956   0.246139   0.931903                    \n\n",
          "name": "stdout"
        },
        {
          "output_type": "execute_result",
          "execution_count": 7,
          "data": {
            "text/plain": "[0.24613874339513758, 0.93190338948991]"
          },
          "metadata": {}
        }
      ]
    },
    {
      "metadata": {
        "trusted": true,
        "_uuid": "0b8148e43b7ca5d51107203f7d6002d35c665000"
      },
      "cell_type": "code",
      "source": "lrf=learn.lr_find() # to find a good learning rate",
      "execution_count": 8,
      "outputs": [
        {
          "output_type": "display_data",
          "data": {
            "text/plain": "HBox(children=(IntProgress(value=0, description='Epoch', max=1, style=ProgressStyle(description_width='initial…",
            "application/vnd.jupyter.widget-view+json": {
              "version_major": 2,
              "version_minor": 0,
              "model_id": "cc5af814f94d4f08a9447b2e7ca23082"
            }
          },
          "metadata": {}
        },
        {
          "output_type": "stream",
          "text": " 79%|███████▉  | 484/613 [00:08<00:02, 62.42it/s, loss=1.96] \n                                                            \r",
          "name": "stdout"
        }
      ]
    },
    {
      "metadata": {
        "trusted": true,
        "_uuid": "89455551cd0a98c2be9c91920988f88255549204"
      },
      "cell_type": "code",
      "source": "learn.sched.plot_lr()",
      "execution_count": 9,
      "outputs": [
        {
          "output_type": "display_data",
          "data": {
            "text/plain": "<Figure size 432x288 with 1 Axes>",
            "image/png": "[encoded data removed]"
          },
          "metadata": {}
        }
      ]
    },
    {
      "metadata": {
        "trusted": true,
        "_uuid": "711f50cee93ffb372b2c2a518cdb3344aeb78935"
      },
      "cell_type": "code",
      "source": "learn.sched.plot()",
      "execution_count": 10,
      "outputs": [
        {
          "output_type": "display_data",
          "data": {
            "text/plain": "<Figure size 432x288 with 1 Axes>",
            "image/png": "[encoded data removed]"
          },
          "metadata": {}
        }
      ]
    },
    {
      "metadata": {
        "_uuid": "7d8162490714fbd0e5ead42931d9e0e31e6421cf"
      },
      "cell_type": "markdown",
      "source": "Trying to improve with data augmentation"
    },
    {
      "metadata": {
        "trusted": true,
        "_uuid": "793f8458f8a3e9a9d79b6ad86da9f0d243f65e12"
      },
      "cell_type": "code",
      "source": "tfms = tfms_from_model(resnet101, sz, aug_tfms=transforms_side_on)\ndata = ImageClassifierData.from_paths(PATH, tfms=tfms, num_workers=1, val_name='train')\ndata.path = pathlib.Path('.')",
      "execution_count": 11,
      "outputs": []
    },
    {
      "metadata": {
        "trusted": true,
        "_uuid": "02c0f2c2107e7897f64bc84781205ce742d27b8a"
      },
      "cell_type": "code",
      "source": "learn = ConvLearner.pretrained(arch, data, precompute=True)",
      "execution_count": 12,
      "outputs": [
        {
          "output_type": "stream",
          "text": "/opt/conda/lib/python3.6/site-packages/fastai/initializers.py:6: UserWarning: nn.init.kaiming_normal is now deprecated in favor of nn.init.kaiming_normal_.\n  if hasattr(m, 'weight'): init_fn(m.weight)\n/opt/conda/lib/python3.6/site-packages/fastai/initializers.py:6: UserWarning: nn.init.kaiming_normal is now deprecated in favor of nn.init.kaiming_normal_.\n  if hasattr(m, 'weight'): init_fn(m.weight)\n",
          "name": "stderr"
        }
      ]
    },
    {
      "metadata": {
        "trusted": true,
        "_uuid": "735b21125e30dd44159b375567954b672db52934"
      },
      "cell_type": "code",
      "source": "learn.fit(1e-2, 4)",
      "execution_count": 13,
      "outputs": [
        {
          "output_type": "display_data",
          "data": {
            "text/plain": "HBox(children=(IntProgress(value=0, description='Epoch', max=4, style=ProgressStyle(description_width='initial…",
            "application/vnd.jupyter.widget-view+json": {
              "version_major": 2,
              "version_minor": 0,
              "model_id": "b956a9c45e284d36a55ad2639cc28d20"
            }
          },
          "metadata": {}
        },
        {
          "output_type": "stream",
          "text": "epoch      trn_loss   val_loss   accuracy                    \n    0      0.902921   0.541308   0.843276  \n    1      0.712573   0.377928   0.892346                    \n    2      0.612977   0.299199   0.915606                    \n    3      0.540853   0.248948   0.927415                    \n\n",
          "name": "stdout"
        },
        {
          "output_type": "execute_result",
          "execution_count": 13,
          "data": {
            "text/plain": "[0.24894807641511182, 0.9274146241554205]"
          },
          "metadata": {}
        }
      ]
    },
    {
      "metadata": {
        "trusted": true,
        "_uuid": "8c8b465421930a5a4455a5a68164ed1738549398"
      },
      "cell_type": "code",
      "source": "learn.precompute = False\nlearn.unfreeze()\nlr=np.array([1e-6,1e-4,1e-2])\nlearn.fit(lr, 2, cycle_len=1, cycle_mult=2)",
      "execution_count": 14,
      "outputs": [
        {
          "output_type": "display_data",
          "data": {
            "text/plain": "HBox(children=(IntProgress(value=0, description='Epoch', max=3, style=ProgressStyle(description_width='initial…",
            "application/vnd.jupyter.widget-view+json": {
              "version_major": 2,
              "version_minor": 0,
              "model_id": "591d28d1944b48be85e14411a91e1a62"
            }
          },
          "metadata": {}
        },
        {
          "output_type": "stream",
          "text": "epoch      trn_loss   val_loss   accuracy                    \n    0      0.627726   0.338882   0.891734  \n    1      0.377302   0.177494   0.942258                    \n    2      0.297416   0.158237   0.95042                     \n\n",
          "name": "stdout"
        },
        {
          "output_type": "execute_result",
          "execution_count": 14,
          "data": {
            "text/plain": "[0.1582371006296755, 0.9504195464703565]"
          },
          "metadata": {}
        }
      ]
    },
    {
      "metadata": {
        "trusted": true,
        "_uuid": "e586d5aeefde90520047f57995f4ff487af4aeed"
      },
      "cell_type": "code",
      "source": "learn.fit(lr, 2, cycle_len=1, cycle_mult=2)",
      "execution_count": 15,
      "outputs": [
        {
          "output_type": "display_data",
          "data": {
            "text/plain": "HBox(children=(IntProgress(value=0, description='Epoch', max=3, style=ProgressStyle(description_width='initial…",
            "application/vnd.jupyter.widget-view+json": {
              "version_major": 2,
              "version_minor": 0,
              "model_id": "e7394da12bd34bcab71d9fb7c9e027fd"
            }
          },
          "metadata": {}
        },
        {
          "output_type": "stream",
          "text": "epoch      trn_loss   val_loss   accuracy                    \n    0      0.260224   0.12721    0.959244  \n    1      0.19375    0.094356   0.970287                    \n    2      0.178652   0.085976   0.973169                    \n\n",
          "name": "stdout"
        },
        {
          "output_type": "execute_result",
          "execution_count": 15,
          "data": {
            "text/plain": "[0.08597640065847222, 0.9731694253247012]"
          },
          "metadata": {}
        }
      ]
    },
    {
      "metadata": {
        "trusted": true,
        "_uuid": "812d4fe005d54befe5a8e1ced1d0f729ecbe77f7"
      },
      "cell_type": "code",
      "source": "log_preds,y = learn.TTA()\nprobs = np.mean(np.exp(log_preds),0)\naccuracy_np(probs, y)",
      "execution_count": 16,
      "outputs": [
        {
          "output_type": "stream",
          "text": "                                              \r",
          "name": "stdout"
        },
        {
          "output_type": "execute_result",
          "execution_count": 16,
          "data": {
            "text/plain": "0.9819429212680763"
          },
          "metadata": {}
        }
      ]
    },
    {
      "metadata": {
        "trusted": true,
        "_uuid": "8a496a3843c896272c48cb3bce397461496506c9"
      },
      "cell_type": "code",
      "source": "",
      "execution_count": null,
      "outputs": []
    }
  ],
  "metadata": {
    "kernelspec": {
      "display_name": "Python 3",
      "language": "python",
      "name": "python3"
    },
    "language_info": {
      "name": "python",
      "version": "3.6.6",
      "mimetype": "text/x-python",
      "codemirror_mode": {
        "name": "ipython",
        "version": 3
      },
      "pygments_lexer": "ipython3",
      "nbconvert_exporter": "python",
      "file_extension": ".py"
    }
  },
  "nbformat": 4,
  "nbformat_minor": 1
}